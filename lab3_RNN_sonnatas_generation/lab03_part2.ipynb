{
  "cells": [
    {
      "cell_type": "markdown",
      "metadata": {
        "id": "O1B4o0QH6pSF"
      },
      "source": [
        "### Part 2: Poetry generation (for real)\n",
        "\n",
        "Let's try to generate some poetry using RNNs.\n",
        "\n",
        "You have several choices here:\n",
        "\n",
        "* The Shakespeare sonnets, file `sonnets.txt` available in the notebook directory.\n",
        "\n",
        "* Роман в стихах \"Евгений Онегин\" Александра Сергеевича Пушкина. В предобработанном виде доступен по [ссылке](https://github.com/attatrol/data_sources/blob/master/onegin.txt).\n",
        "\n",
        "* Some other text source, if it will be approved by the course staff.\n",
        "\n",
        "Text generation can be designed in several steps:\n",
        "    \n",
        "1. Data loading.\n",
        "2. Dictionary generation.\n",
        "3. Data preprocessing.\n",
        "4. Model (neural network) training.\n",
        "5. Text generation (model evaluation).\n"
      ]
    },
    {
      "cell_type": "code",
      "execution_count": 1,
      "metadata": {
        "id": "165CgY9H6pSI"
      },
      "outputs": [],
      "source": [
        "import string\n",
        "import os"
      ]
    },
    {
      "cell_type": "markdown",
      "metadata": {
        "id": "P67-Muwu6pSK"
      },
      "source": [
        "### Data loading: Shakespeare"
      ]
    },
    {
      "cell_type": "markdown",
      "metadata": {
        "id": "wcnkgs0c6pSK"
      },
      "source": [
        "Shakespeare sonnets are awailable at this [link](http://www.gutenberg.org/ebooks/1041?msg=welcome_stranger). In addition, they are stored in the same directory as this notebook (`sonnetes.txt`). Simple preprocessing is already done for you in the next cell: all technical info is dropped."
      ]
    },
    {
      "cell_type": "code",
      "execution_count": 2,
      "metadata": {
        "collapsed": true,
        "id": "YAVG6cUf6pSL"
      },
      "outputs": [],
      "source": [
        "if not os.path.exists('sonnets.txt'):\n",
        "    !wget https://raw.githubusercontent.com/girafe-ai/ml-course/22f_basic/homeworks_basic/lab02_deep_learning/sonnets.txt\n",
        "\n",
        "with open('sonnets.txt', 'r') as iofile:\n",
        "    text = iofile.readlines()\n",
        "\n",
        "TEXT_START = 45\n",
        "TEXT_END = -368\n",
        "text = text[TEXT_START : TEXT_END]\n",
        "assert len(text) == 2616"
      ]
    },
    {
      "cell_type": "markdown",
      "metadata": {
        "id": "vaJQicLc6pSM"
      },
      "source": [
        "In opposite to the in-class practice, this time we want to predict complex text. Let's reduce the complexity of the task and lowercase all the symbols.\n",
        "\n",
        "Now variable `text` is a list of strings. Join all the strings into one and lowercase it."
      ]
    },
    {
      "cell_type": "code",
      "execution_count": 3,
      "metadata": {
        "colab": {
          "base_uri": "https://localhost:8080/"
        },
        "id": "i0HNi1od6pSM",
        "outputId": "d1cfabda-61b9-4f45-f7ab-8c2708c1f057"
      },
      "outputs": [
        {
          "output_type": "stream",
          "name": "stdout",
          "text": [
            "OK!\n"
          ]
        }
      ],
      "source": [
        "# Join all the strings into one and lowercase it\n",
        "# Put result into variable text.\n",
        "\n",
        "modified_text = [s[1:] for s in text]\n",
        "result = ' '.join(modified_text).lower()\n",
        "result = result + ' '\n",
        "text = result\n",
        "\n",
        "assert len(text) == 100225, \"Are you sure you have concatenated all the strings?\"\n",
        "assert not any([x in set(text) for x in string.ascii_uppercase]), \"Uppercase letters are present\"\n",
        "print(\"OK!\")"
      ]
    },
    {
      "cell_type": "markdown",
      "metadata": {
        "id": "HIPI7mca6pSM"
      },
      "source": [
        "### Data loading: \"Евгений Онегин\"\n"
      ]
    },
    {
      "cell_type": "code",
      "execution_count": 4,
      "metadata": {
        "colab": {
          "base_uri": "https://localhost:8080/"
        },
        "id": "2uWz4AhT6pSN",
        "outputId": "12e84483-833e-43da-f8a6-4639a890efb4"
      },
      "outputs": [
        {
          "output_type": "stream",
          "name": "stdout",
          "text": [
            "--2024-12-13 23:41:40--  https://raw.githubusercontent.com/attatrol/data_sources/master/onegin.txt\n",
            "Resolving raw.githubusercontent.com (raw.githubusercontent.com)... 185.199.108.133, 185.199.109.133, 185.199.110.133, ...\n",
            "Connecting to raw.githubusercontent.com (raw.githubusercontent.com)|185.199.108.133|:443... connected.\n",
            "HTTP request sent, awaiting response... 200 OK\n",
            "Length: 262521 (256K) [text/plain]\n",
            "Saving to: ‘onegin.txt.2’\n",
            "\n",
            "onegin.txt.2        100%[===================>] 256.37K  --.-KB/s    in 0.04s   \n",
            "\n",
            "2024-12-13 23:41:40 (6.83 MB/s) - ‘onegin.txt.2’ saved [262521/262521]\n",
            "\n"
          ]
        }
      ],
      "source": [
        "!wget https://raw.githubusercontent.com/attatrol/data_sources/master/onegin.txt\n",
        "\n",
        "with open('onegin.txt', 'r') as iofile:\n",
        "    text = iofile.readlines()\n",
        "\n",
        "text = [x.replace('\\t\\t', '') for x in text]"
      ]
    },
    {
      "cell_type": "markdown",
      "metadata": {
        "id": "XWE8Jh656pSO"
      },
      "source": [
        "In opposite to the in-class practice, this time we want to predict complex text. Let's reduce the complexity of the task and lowercase all the symbols.\n",
        "\n",
        "Now variable `text` is a list of strings. Join all the strings into one and lowercase it."
      ]
    },
    {
      "cell_type": "code",
      "execution_count": 5,
      "metadata": {
        "id": "CVvzHK5Y6pSO"
      },
      "outputs": [],
      "source": [
        "# Join all the strings into one and lowercase it\n",
        "# Put result into variable text.\n",
        "\n",
        "#modified_text = [s[1:] for s in text]\n",
        "result = ' '.join(text).lower()\n",
        "result = result + ' '\n",
        "text = result"
      ]
    },
    {
      "cell_type": "markdown",
      "metadata": {
        "id": "DVFxGMCZ6pSO"
      },
      "source": [
        "Put all the characters, that you've seen in the text, into variable `tokens`."
      ]
    },
    {
      "cell_type": "code",
      "execution_count": 6,
      "metadata": {
        "id": "2iV46M5K6pSP"
      },
      "outputs": [],
      "source": [
        "\n",
        "tokens = sorted(set(text)) + ['<sos>']"
      ]
    },
    {
      "cell_type": "markdown",
      "metadata": {
        "id": "cmbDAVxB6pSP"
      },
      "source": [
        "Create dictionary `token_to_idx = {<char>: <index>}` and dictionary `idx_to_token = {<index>: <char>}`"
      ]
    },
    {
      "cell_type": "code",
      "execution_count": 7,
      "metadata": {
        "collapsed": true,
        "id": "XvcS7CFK6pSP"
      },
      "outputs": [],
      "source": [
        "# dict <index>:<char>\n",
        "token_to_idx = {char: idx for idx, char in enumerate(tokens)}\n",
        "\n",
        "# dict <char>:<index>\n",
        "idx_to_token = {idx: char for idx, char in enumerate(tokens)}"
      ]
    },
    {
      "cell_type": "markdown",
      "metadata": {
        "id": "Qz4Tbs2s6pSQ"
      },
      "source": [
        "*Comment: in this task we have only 38 different tokens, so let's use one-hot encoding.*"
      ]
    },
    {
      "cell_type": "markdown",
      "metadata": {
        "id": "yHo7OwXs6pSQ"
      },
      "source": [
        "### Building the model"
      ]
    },
    {
      "cell_type": "markdown",
      "metadata": {
        "id": "AmuhXd1l6pSQ"
      },
      "source": [
        "Now we want to build and train recurrent neural net which would be able to something similar to Shakespeare's poetry.\n",
        "\n",
        "Let's use vanilla RNN, similar to the one created during the lesson."
      ]
    },
    {
      "cell_type": "code",
      "execution_count": 8,
      "metadata": {
        "collapsed": true,
        "id": "Yp_TgmL56pSR"
      },
      "outputs": [],
      "source": [
        "import numpy as np\n",
        "import torch\n",
        "import torch.nn as nn\n",
        "import torch.optim as optim"
      ]
    },
    {
      "cell_type": "code",
      "source": [
        "text_encoded = [token_to_idx[x] for x in text]"
      ],
      "metadata": {
        "id": "5uzhza5_UGjx"
      },
      "execution_count": 9,
      "outputs": []
    },
    {
      "cell_type": "code",
      "source": [
        "def get_batch(data, batch_size, seq_length):\n",
        "    batch_inputs = []\n",
        "    batch_targets = []\n",
        "    for _ in range(batch_size):\n",
        "        start_idx = np.random.randint(0, len(data) - seq_length - 1)\n",
        "        input_seq = data[start_idx:start_idx + seq_length]\n",
        "        target_seq = data[start_idx + 1:start_idx + seq_length + 1]\n",
        "        batch_inputs.append(input_seq)\n",
        "        batch_targets.append(target_seq)\n",
        "    return np.array(batch_inputs), np.array(batch_targets)"
      ],
      "metadata": {
        "id": "4AaUPyDTSLG7"
      },
      "execution_count": 10,
      "outputs": []
    },
    {
      "cell_type": "code",
      "source": [
        "class VanillaRNN(nn.Module):\n",
        "    def __init__(self, vocab_size, hidden_size, num_layers=1):\n",
        "        super(VanillaRNN, self).__init__()\n",
        "        self.hidden_size = hidden_size\n",
        "        self.num_layers = num_layers\n",
        "\n",
        "        self.embedding = nn.Embedding(vocab_size, hidden_size)\n",
        "        self.rnn = nn.RNN(hidden_size, hidden_size, num_layers, batch_first=True)\n",
        "        self.fc = nn.Linear(hidden_size, vocab_size)\n",
        "\n",
        "    def forward(self, x, hidden):\n",
        "        x = self.embedding(x)\n",
        "        out, hidden = self.rnn(x, hidden)\n",
        "        out = self.fc(out)\n",
        "        return out, hidden\n",
        "\n",
        "    def init_hidden(self, batch_size):\n",
        "        return torch.zeros(self.num_layers, batch_size, self.hidden_size)"
      ],
      "metadata": {
        "id": "x8ETIrQpSV4U"
      },
      "execution_count": 11,
      "outputs": []
    },
    {
      "cell_type": "code",
      "source": [
        "seq_length = 100\n",
        "batch_size = 256\n",
        "hidden_size = 256\n",
        "num_epochs = 500\n",
        "learning_rate = 0.001\n",
        "\n",
        "vocab_size = len(tokens)\n",
        "model = VanillaRNN(vocab_size, hidden_size, 2)\n",
        "criterion = nn.CrossEntropyLoss()\n",
        "optimizer = optim.Adam(model.parameters(), lr=learning_rate)\n",
        "epochs_plot = []\n",
        "loss_plot = []\n",
        "\n",
        "for epoch in range(num_epochs):\n",
        "    hidden = model.init_hidden(batch_size)\n",
        "    inputs, targets = get_batch(text_encoded, batch_size, seq_length)\n",
        "\n",
        "    inputs = torch.tensor(inputs, dtype=torch.long)\n",
        "    targets = torch.tensor(targets, dtype=torch.long)\n",
        "\n",
        "    # Обнуляем градиенты\n",
        "    optimizer.zero_grad()\n",
        "\n",
        "    # Прямой проход\n",
        "    outputs, hidden = model(inputs, hidden)\n",
        "    loss = criterion(outputs.view(-1, vocab_size), targets.view(-1))\n",
        "\n",
        "    # Обратный проход\n",
        "    loss.backward()\n",
        "    optimizer.step()\n",
        "\n",
        "    if (epoch + 1) % 5 == 0:\n",
        "        print(f'Epoch [{epoch + 1}/{num_epochs}], Loss: {loss.item():.4f}')\n",
        "\n",
        "    epochs_plot.append(epoch)\n",
        "    loss_plot.append(loss.item())"
      ],
      "metadata": {
        "colab": {
          "base_uri": "https://localhost:8080/"
        },
        "id": "7o72A_lcUn-K",
        "outputId": "6fbfe9c6-4c37-446f-e590-f95fc45f0245"
      },
      "execution_count": 12,
      "outputs": [
        {
          "output_type": "stream",
          "name": "stdout",
          "text": [
            "Epoch [5/500], Loss: 3.4267\n",
            "Epoch [10/500], Loss: 3.0293\n",
            "Epoch [15/500], Loss: 2.8360\n",
            "Epoch [20/500], Loss: 2.6940\n",
            "Epoch [25/500], Loss: 2.5952\n",
            "Epoch [30/500], Loss: 2.5283\n",
            "Epoch [35/500], Loss: 2.4729\n",
            "Epoch [40/500], Loss: 2.4312\n",
            "Epoch [45/500], Loss: 2.4034\n",
            "Epoch [50/500], Loss: 2.3383\n",
            "Epoch [55/500], Loss: 2.3077\n",
            "Epoch [60/500], Loss: 2.3036\n",
            "Epoch [65/500], Loss: 2.2761\n",
            "Epoch [70/500], Loss: 2.2676\n",
            "Epoch [75/500], Loss: 2.2493\n",
            "Epoch [80/500], Loss: 2.2210\n",
            "Epoch [85/500], Loss: 2.1875\n",
            "Epoch [90/500], Loss: 2.1901\n",
            "Epoch [95/500], Loss: 2.1623\n",
            "Epoch [100/500], Loss: 2.1619\n",
            "Epoch [105/500], Loss: 2.1506\n",
            "Epoch [110/500], Loss: 2.1089\n",
            "Epoch [115/500], Loss: 2.0861\n",
            "Epoch [120/500], Loss: 2.0980\n",
            "Epoch [125/500], Loss: 2.0719\n",
            "Epoch [130/500], Loss: 2.0613\n",
            "Epoch [135/500], Loss: 2.0357\n",
            "Epoch [140/500], Loss: 2.0249\n",
            "Epoch [145/500], Loss: 2.0121\n",
            "Epoch [150/500], Loss: 1.9932\n",
            "Epoch [155/500], Loss: 1.9941\n",
            "Epoch [160/500], Loss: 1.9780\n",
            "Epoch [165/500], Loss: 1.9818\n",
            "Epoch [170/500], Loss: 1.9685\n",
            "Epoch [175/500], Loss: 1.9477\n",
            "Epoch [180/500], Loss: 1.9620\n",
            "Epoch [185/500], Loss: 1.9314\n",
            "Epoch [190/500], Loss: 1.9390\n",
            "Epoch [195/500], Loss: 1.9133\n",
            "Epoch [200/500], Loss: 1.9222\n",
            "Epoch [205/500], Loss: 1.8929\n",
            "Epoch [210/500], Loss: 1.8877\n",
            "Epoch [215/500], Loss: 1.8776\n",
            "Epoch [220/500], Loss: 1.8829\n",
            "Epoch [225/500], Loss: 1.8602\n",
            "Epoch [230/500], Loss: 1.8339\n",
            "Epoch [235/500], Loss: 1.8489\n",
            "Epoch [240/500], Loss: 1.8192\n",
            "Epoch [245/500], Loss: 1.8298\n",
            "Epoch [250/500], Loss: 1.8241\n",
            "Epoch [255/500], Loss: 1.7933\n",
            "Epoch [260/500], Loss: 1.7867\n",
            "Epoch [265/500], Loss: 1.8212\n",
            "Epoch [270/500], Loss: 1.8014\n",
            "Epoch [275/500], Loss: 1.7867\n",
            "Epoch [280/500], Loss: 1.7927\n",
            "Epoch [285/500], Loss: 1.7666\n",
            "Epoch [290/500], Loss: 1.7573\n",
            "Epoch [295/500], Loss: 1.7314\n",
            "Epoch [300/500], Loss: 1.7379\n",
            "Epoch [305/500], Loss: 1.7469\n",
            "Epoch [310/500], Loss: 1.7375\n",
            "Epoch [315/500], Loss: 1.7807\n",
            "Epoch [320/500], Loss: 1.7293\n",
            "Epoch [325/500], Loss: 1.7314\n",
            "Epoch [330/500], Loss: 1.7327\n",
            "Epoch [335/500], Loss: 1.6947\n",
            "Epoch [340/500], Loss: 1.7236\n",
            "Epoch [345/500], Loss: 1.7039\n",
            "Epoch [350/500], Loss: 1.6827\n",
            "Epoch [355/500], Loss: 1.6665\n",
            "Epoch [360/500], Loss: 1.7029\n",
            "Epoch [365/500], Loss: 1.6628\n",
            "Epoch [370/500], Loss: 1.6538\n",
            "Epoch [375/500], Loss: 1.6378\n",
            "Epoch [380/500], Loss: 1.6492\n",
            "Epoch [385/500], Loss: 1.6398\n",
            "Epoch [390/500], Loss: 1.6488\n",
            "Epoch [395/500], Loss: 1.6471\n",
            "Epoch [400/500], Loss: 1.6204\n",
            "Epoch [405/500], Loss: 1.6127\n",
            "Epoch [410/500], Loss: 1.6261\n",
            "Epoch [415/500], Loss: 1.6182\n",
            "Epoch [420/500], Loss: 1.6173\n",
            "Epoch [425/500], Loss: 1.5961\n",
            "Epoch [430/500], Loss: 1.6063\n",
            "Epoch [435/500], Loss: 1.5782\n",
            "Epoch [440/500], Loss: 1.6023\n",
            "Epoch [445/500], Loss: 1.6029\n",
            "Epoch [450/500], Loss: 1.5799\n",
            "Epoch [455/500], Loss: 1.5697\n",
            "Epoch [460/500], Loss: 1.5920\n",
            "Epoch [465/500], Loss: 1.5818\n",
            "Epoch [470/500], Loss: 1.5931\n",
            "Epoch [475/500], Loss: 1.5419\n",
            "Epoch [480/500], Loss: 1.5554\n",
            "Epoch [485/500], Loss: 1.5410\n",
            "Epoch [490/500], Loss: 1.5450\n",
            "Epoch [495/500], Loss: 1.5319\n",
            "Epoch [500/500], Loss: 1.5286\n"
          ]
        }
      ]
    },
    {
      "cell_type": "markdown",
      "metadata": {
        "id": "55mLcmAC6pSR"
      },
      "source": [
        "Plot the loss function (axis X: number of epochs, axis Y: loss function)."
      ]
    },
    {
      "cell_type": "code",
      "execution_count": 13,
      "metadata": {
        "collapsed": true,
        "id": "T6tJX_br6pSR"
      },
      "outputs": [],
      "source": [
        "import matplotlib.pyplot as plt"
      ]
    },
    {
      "cell_type": "code",
      "source": [
        "plt.plot(epochs_plot, loss_plot)\n",
        "plt.xlabel('Epochs number')\n",
        "plt.ylabel('Loss')"
      ],
      "metadata": {
        "colab": {
          "base_uri": "https://localhost:8080/",
          "height": 467
        },
        "id": "mYIWJc1gYyF-",
        "outputId": "84e77d4e-feef-4346-867b-504dab3224fa"
      },
      "execution_count": 14,
      "outputs": [
        {
          "output_type": "execute_result",
          "data": {
            "text/plain": [
              "Text(0, 0.5, 'Loss')"
            ]
          },
          "metadata": {},
          "execution_count": 14
        },
        {
          "output_type": "display_data",
          "data": {
            "text/plain": [
              "<Figure size 640x480 with 1 Axes>"
            ],
            "image/png": "[encoded data removed]"
          },
          "metadata": {}
        }
      ]
    },
    {
      "cell_type": "code",
      "execution_count": 15,
      "metadata": {
        "id": "hoaDhR9e6pSS"
      },
      "outputs": [],
      "source": [
        "def generate_sample(char_rnn, seed_phrase=None, max_length=200, temperature=1.0, device='cpu'):\n",
        "    if seed_phrase is not None:\n",
        "        x_sequence = [token_to_idx['<sos>']] + [token_to_idx[token] for token in seed_phrase]\n",
        "    else:\n",
        "        x_sequence = [token_to_idx['<sos>']]\n",
        "\n",
        "    x_sequence = torch.tensor([x_sequence], dtype=torch.int64).to(device)\n",
        "    hidden = char_rnn.init_hidden(batch_size=1).to(device)\n",
        "    generated_sequence = list(seed_phrase) if seed_phrase else []\n",
        "    for _ in range(max_length - len(generated_sequence)):\n",
        "        logits, hidden = char_rnn(x_sequence[:, -1:], hidden)\n",
        "        logits = logits.squeeze(0).squeeze(0)\n",
        "        scaled_logits = logits / temperature\n",
        "        probabilities = torch.softmax(scaled_logits, dim=-1).detach().cpu().numpy()\n",
        "        next_char_idx = np.random.choice(len(probabilities), p=probabilities)\n",
        "        next_char = idx_to_token[next_char_idx]\n",
        "        generated_sequence.append(next_char)\n",
        "        x_sequence = torch.cat([x_sequence, torch.tensor([[next_char_idx]], dtype=torch.int64).to(device)], dim=1)\n",
        "\n",
        "    return ''.join(generated_sequence)\n"
      ]
    },
    {
      "cell_type": "code",
      "execution_count": 33,
      "metadata": {
        "id": "z3BDHwe96pSS"
      },
      "outputs": [],
      "source": [
        "# An example of generated text.\n",
        "# print(generate_text(length=500, temperature=0.2))\n",
        "\n",
        "seed_phrase =' мой дядя самых честных правил \\n когда не в шутку занемог\\n'\n",
        "generated_phrases = generate_sample(model, ' мой дядя самых честных правил \\n когда не в шутку занемог\\n', max_length=1000, temperature=0.8)\n",
        "generated_phrases = [\n",
        "    generate_sample(\n",
        "        model,\n",
        "        ' мой дядя самых честных правил \\n когда не в шутку занемог\\n',\n",
        "        max_length=1000,\n",
        "        temperature=1.\n",
        "    ).replace('<sos>', '')\n",
        "    for _ in range(10)\n",
        "]"
      ]
    },
    {
      "cell_type": "code",
      "source": [
        "print(generated_phrases[0])"
      ],
      "metadata": {
        "colab": {
          "base_uri": "https://localhost:8080/"
        },
        "id": "6bL1oqdWbwKD",
        "outputId": "4f8c8509-4be4-4ccc-9b28-6b5ce7845479"
      },
      "execution_count": 34,
      "outputs": [
        {
          "output_type": "stream",
          "name": "stdout",
          "text": [
            " мой дядя самых честных правил \n",
            " когда не в шутку занемог\n",
            " пора представных возврат,\n",
            " пуэт останья меня…» —\n",
            " «а много росны\n",
            " то в свою волод,\n",
            " всё я жерных стольками ступло всягою руку и хлова;\n",
            " свои лесок я ленский\n",
            " онегин мадриженью\n",
            " покорец мыслять, слыша с отъемлю\n",
            " кородно тани давно за скучнице, медная.\n",
            " и в горы сердца завился ками\n",
            " и в гладая коскорвинел.\n",
            " была привенно. нет,\n",
            " то люблю такоче, я скаколжны\n",
            " татьяна и головой,\n",
            " что знаком сняньем;\n",
            " но зимету любовь,\n",
            " так оно в том билой\n",
            " и жужный храня,\n",
            " запарм снегов из вете,\n",
            " и при них\n",
            " так глева мой всеге\n",
            " и зведей любви, желаньем\n",
            " сердца в сердце. я едат» —\n",
            " «зарячки с ольге речей\n",
            " еще острывал: всё бояда,\n",
            " бывлеча мглуп и предмых,\n",
            " вот на влагадо,\n",
            " какое шане той глас!\n",
            " \n",
            " \n",
            " \n",
            " xii\n",
            " \n",
            " мы всех две попразанрый матый,\n",
            " весная блажки темно-тобра!\n",
            " но позрелей и килет.\n",
            " она могом, трепеком угомлиски, ксокной\n",
            " и ответу – по кого;\n",
            " чьев и напл;\n",
            " описной картины,\n",
            " писать его\n",
            " всё m’osd)скрочной помлече\n",
            " мне кровь на пела просто…\n",
            " \n",
            " \n",
            " \n",
            "\n"
          ]
        }
      ]
    },
    {
      "cell_type": "markdown",
      "metadata": {
        "id": "A8yChGiC6pST"
      },
      "source": [
        "### More poetic model\n",
        "\n",
        "Let's use LSTM instead of vanilla RNN and compare the results.\n",
        "\n",
        "*Comment: if you wish, you can use small GPT as well (e.g. from https://github.com/karpathy/nanoGPT)*"
      ]
    },
    {
      "cell_type": "markdown",
      "metadata": {
        "id": "lUQ8keM66pST"
      },
      "source": [
        "Plot the loss function of the number of epochs. Does the final loss become better?"
      ]
    },
    {
      "cell_type": "code",
      "execution_count": 39,
      "metadata": {
        "collapsed": true,
        "id": "OxyyPaEF6pST",
        "colab": {
          "base_uri": "https://localhost:8080/"
        },
        "outputId": "91b575d5-5e97-468b-c2d2-9a3c2b082405"
      },
      "outputs": [
        {
          "output_type": "stream",
          "name": "stdout",
          "text": [
            "Epoch [5/500], Loss: 3.9948\n",
            "Epoch [10/500], Loss: 3.0948\n",
            "Epoch [15/500], Loss: 2.7405\n",
            "Epoch [20/500], Loss: 2.5389\n",
            "Epoch [25/500], Loss: 2.4206\n",
            "Epoch [30/500], Loss: 2.3193\n",
            "Epoch [35/500], Loss: 2.2769\n",
            "Epoch [40/500], Loss: 2.2263\n",
            "Epoch [45/500], Loss: 2.1880\n",
            "Epoch [50/500], Loss: 2.1344\n",
            "Epoch [55/500], Loss: 2.0892\n",
            "Epoch [60/500], Loss: 2.0371\n",
            "Epoch [65/500], Loss: 2.0118\n",
            "Epoch [70/500], Loss: 1.9920\n",
            "Epoch [75/500], Loss: 1.9551\n",
            "Epoch [80/500], Loss: 1.9433\n",
            "Epoch [85/500], Loss: 1.9187\n",
            "Epoch [90/500], Loss: 1.8908\n",
            "Epoch [95/500], Loss: 1.8823\n",
            "Epoch [100/500], Loss: 1.8608\n",
            "Epoch [105/500], Loss: 1.8272\n",
            "Epoch [110/500], Loss: 1.8177\n",
            "Epoch [115/500], Loss: 1.8116\n",
            "Epoch [120/500], Loss: 1.7929\n",
            "Epoch [125/500], Loss: 1.7766\n",
            "Epoch [130/500], Loss: 1.7834\n",
            "Epoch [135/500], Loss: 1.7330\n",
            "Epoch [140/500], Loss: 1.7322\n",
            "Epoch [145/500], Loss: 1.7510\n",
            "Epoch [150/500], Loss: 1.7042\n",
            "Epoch [155/500], Loss: 1.7082\n",
            "Epoch [160/500], Loss: 1.7084\n",
            "Epoch [165/500], Loss: 1.6946\n",
            "Epoch [170/500], Loss: 1.6583\n",
            "Epoch [175/500], Loss: 1.6709\n",
            "Epoch [180/500], Loss: 1.6301\n",
            "Epoch [185/500], Loss: 1.6306\n",
            "Epoch [190/500], Loss: 1.6162\n",
            "Epoch [195/500], Loss: 1.6399\n",
            "Epoch [200/500], Loss: 1.6283\n",
            "Epoch [205/500], Loss: 1.6087\n",
            "Epoch [210/500], Loss: 1.6053\n",
            "Epoch [215/500], Loss: 1.5895\n",
            "Epoch [220/500], Loss: 1.6080\n",
            "Epoch [225/500], Loss: 1.5587\n",
            "Epoch [230/500], Loss: 1.5620\n",
            "Epoch [235/500], Loss: 1.5702\n",
            "Epoch [240/500], Loss: 1.5673\n",
            "Epoch [245/500], Loss: 1.5522\n",
            "Epoch [250/500], Loss: 1.5541\n",
            "Epoch [255/500], Loss: 1.5839\n",
            "Epoch [260/500], Loss: 1.5508\n",
            "Epoch [265/500], Loss: 1.5522\n",
            "Epoch [270/500], Loss: 1.5179\n",
            "Epoch [275/500], Loss: 1.5205\n",
            "Epoch [280/500], Loss: 1.4890\n",
            "Epoch [285/500], Loss: 1.5151\n",
            "Epoch [290/500], Loss: 1.5122\n",
            "Epoch [295/500], Loss: 1.4851\n",
            "Epoch [300/500], Loss: 1.4841\n",
            "Epoch [305/500], Loss: 1.4845\n",
            "Epoch [310/500], Loss: 1.4809\n",
            "Epoch [315/500], Loss: 1.4844\n",
            "Epoch [320/500], Loss: 1.4657\n",
            "Epoch [325/500], Loss: 1.4593\n",
            "Epoch [330/500], Loss: 1.4755\n",
            "Epoch [335/500], Loss: 1.4638\n",
            "Epoch [340/500], Loss: 1.4482\n",
            "Epoch [345/500], Loss: 1.4424\n",
            "Epoch [350/500], Loss: 1.4401\n",
            "Epoch [355/500], Loss: 1.4162\n",
            "Epoch [360/500], Loss: 1.4225\n",
            "Epoch [365/500], Loss: 1.4200\n",
            "Epoch [370/500], Loss: 1.4123\n",
            "Epoch [375/500], Loss: 1.4146\n",
            "Epoch [380/500], Loss: 1.3986\n",
            "Epoch [385/500], Loss: 1.4134\n",
            "Epoch [390/500], Loss: 1.4017\n",
            "Epoch [395/500], Loss: 1.3880\n",
            "Epoch [400/500], Loss: 1.4021\n",
            "Epoch [405/500], Loss: 1.3768\n",
            "Epoch [410/500], Loss: 1.3998\n",
            "Epoch [415/500], Loss: 1.3944\n",
            "Epoch [420/500], Loss: 1.3972\n",
            "Epoch [425/500], Loss: 1.3873\n",
            "Epoch [430/500], Loss: 1.3666\n",
            "Epoch [435/500], Loss: 1.3690\n",
            "Epoch [440/500], Loss: 1.3645\n",
            "Epoch [445/500], Loss: 1.3756\n",
            "Epoch [450/500], Loss: 1.3634\n",
            "Epoch [455/500], Loss: 1.3656\n",
            "Epoch [460/500], Loss: 1.3517\n",
            "Epoch [465/500], Loss: 1.3546\n",
            "Epoch [470/500], Loss: 1.3303\n",
            "Epoch [475/500], Loss: 1.3355\n",
            "Epoch [480/500], Loss: 1.3394\n",
            "Epoch [485/500], Loss: 1.3344\n",
            "Epoch [490/500], Loss: 1.3446\n",
            "Epoch [495/500], Loss: 1.3399\n",
            "Epoch [500/500], Loss: 1.3347\n"
          ]
        }
      ],
      "source": [
        "def get_batch(data, batch_size, seq_length):\n",
        "    batch_inputs = []\n",
        "    batch_targets = []\n",
        "    for _ in range(batch_size):\n",
        "        start_idx = np.random.randint(0, len(data) - seq_length - 1)\n",
        "        input_seq = data[start_idx:start_idx + seq_length]\n",
        "        target_seq = data[start_idx + 1:start_idx + seq_length + 1]\n",
        "        batch_inputs.append(input_seq)\n",
        "        batch_targets.append(target_seq)\n",
        "    return np.array(batch_inputs), np.array(batch_targets)\n",
        "\n",
        "\n",
        "class VanillaLSTM(nn.Module):\n",
        "    def __init__(self, vocab_size, hidden_size, num_layers=1):\n",
        "        super(VanillaLSTM, self).__init__()\n",
        "        self.hidden_size = hidden_size\n",
        "        self.num_layers = num_layers\n",
        "\n",
        "        self.embedding = nn.Embedding(vocab_size, hidden_size)\n",
        "        self.lstm = nn.LSTM(hidden_size, hidden_size, num_layers, batch_first=True)\n",
        "        self.fc = nn.Linear(hidden_size, vocab_size)\n",
        "\n",
        "    def forward(self, x, hidden):\n",
        "        x = self.embedding(x)\n",
        "        out, hidden = self.lstm(x, hidden)\n",
        "        out = self.fc(out)\n",
        "        return out, hidden\n",
        "\n",
        "    def init_hidden(self, batch_size):\n",
        "        # Initialize hidden state and cell state\n",
        "        hidden = (torch.zeros(self.num_layers, batch_size, self.hidden_size),\n",
        "                  torch.zeros(self.num_layers, batch_size, self.hidden_size))\n",
        "        return hidden\n",
        "\n",
        "\n",
        "seq_length = 100\n",
        "batch_size = 256\n",
        "hidden_size = 256\n",
        "num_epochs = 500\n",
        "learning_rate = 0.03\n",
        "\n",
        "vocab_size = len(tokens)  # Ensure `tokens` is defined\n",
        "model = VanillaLSTM(vocab_size, hidden_size, 2)\n",
        "criterion = nn.CrossEntropyLoss()\n",
        "optimizer = optim.Adam(model.parameters(), lr=learning_rate)\n",
        "epochs_plot = []\n",
        "loss_plot = []\n",
        "\n",
        "for epoch in range(num_epochs):\n",
        "    hidden = model.init_hidden(batch_size)\n",
        "    inputs, targets = get_batch(text_encoded, batch_size, seq_length)\n",
        "\n",
        "    inputs = torch.tensor(inputs, dtype=torch.long)\n",
        "    targets = torch.tensor(targets, dtype=torch.long)\n",
        "\n",
        "    # Zero the gradients\n",
        "    optimizer.zero_grad()\n",
        "\n",
        "    # Forward pass\n",
        "    outputs, hidden = model(inputs, hidden)\n",
        "    loss = criterion(outputs.view(-1, vocab_size), targets.view(-1))\n",
        "\n",
        "    # Backward pass\n",
        "    loss.backward()\n",
        "    optimizer.step()\n",
        "\n",
        "    if (epoch + 1) % 5 == 0:\n",
        "        print(f'Epoch [{epoch + 1}/{num_epochs}], Loss: {loss.item():.4f}')\n",
        "\n",
        "    epochs_plot.append(epoch)\n",
        "    loss_plot.append(loss.item())"
      ]
    },
    {
      "cell_type": "code",
      "source": [
        "plt.plot(epochs_plot, loss_plot)\n",
        "plt.xlabel('Epochs number')\n",
        "plt.ylabel('Loss')"
      ],
      "metadata": {
        "colab": {
          "base_uri": "https://localhost:8080/",
          "height": 467
        },
        "id": "CaiaZO1n8uKF",
        "outputId": "82dbcf2b-bd3a-41c0-8598-c1f4dc8aa2f6"
      },
      "execution_count": 40,
      "outputs": [
        {
          "output_type": "execute_result",
          "data": {
            "text/plain": [
              "Text(0, 0.5, 'Loss')"
            ]
          },
          "metadata": {},
          "execution_count": 40
        },
        {
          "output_type": "display_data",
          "data": {
            "text/plain": [
              "<Figure size 640x480 with 1 Axes>"
            ],
            "image/png": "[encoded data removed]"
          },
          "metadata": {}
        }
      ]
    },
    {
      "cell_type": "markdown",
      "source": [
        "Final loss is better"
      ],
      "metadata": {
        "id": "vVANY-BK8wzy"
      }
    },
    {
      "cell_type": "markdown",
      "metadata": {
        "id": "Ph9tWBhD6pST"
      },
      "source": [
        "Generate text using the trained net with different `temperature` parameter: `[0.1, 0.2, 0.5, 1.0, 2.0]`.\n",
        "\n",
        "Evaluate the results visually, try to interpret them."
      ]
    },
    {
      "cell_type": "markdown",
      "source": [
        "Temp = 1.0"
      ],
      "metadata": {
        "id": "zad_cv4V_uMp"
      }
    },
    {
      "cell_type": "code",
      "execution_count": 44,
      "metadata": {
        "collapsed": true,
        "id": "D6wV9PrD6pST"
      },
      "outputs": [],
      "source": [
        "def generate_sample(char_rnn, seed_phrase=None, max_length=200, temperature=1.0, device='cpu'):\n",
        "    # Start sequence with the <sos> token\n",
        "    if seed_phrase is not None:\n",
        "        x_sequence = [token_to_idx['<sos>']] + [token_to_idx[token] for token in seed_phrase]\n",
        "    else:\n",
        "        x_sequence = [token_to_idx['<sos>']]\n",
        "\n",
        "    # Convert to tensor and move to appropriate device\n",
        "    x_sequence = torch.tensor([x_sequence], dtype=torch.int64).to(device)\n",
        "    hidden = char_rnn.init_hidden(batch_size=1)  # Initialize hidden state\n",
        "    generated_sequence = []\n",
        "\n",
        "    for _ in range(max_length):\n",
        "        # Pass the last token to the model\n",
        "        logits, hidden = char_rnn(x_sequence[:, -1:], hidden)\n",
        "        logits = logits[:, -1, :]  # Get the output for the last token only\n",
        "\n",
        "        # Scale logits by temperature\n",
        "        scaled_logits = logits / temperature\n",
        "        probabilities = torch.softmax(scaled_logits, dim=-1).detach().cpu().numpy()[0]\n",
        "\n",
        "        # Sample next character based on the probabilities\n",
        "        next_char_idx = np.random.choice(len(probabilities), p=probabilities)\n",
        "        next_char = idx_to_token[next_char_idx]\n",
        "\n",
        "        # Store the generated character\n",
        "        generated_sequence.append(next_char)\n",
        "\n",
        "        # Update x_sequence to include the new character\n",
        "        new_input = torch.tensor([[next_char_idx]], dtype=torch.int64).to(device)\n",
        "        x_sequence = torch.cat([x_sequence, new_input], dim=1)\n",
        "\n",
        "    return ''.join(generated_sequence)\n",
        "\n",
        "# Example usage\n",
        "seed_phrase = ' мой дядя самых честных правил \\n когда не в шутку занемог\\n'\n",
        "generated_phrases = [\n",
        "    generate_sample(\n",
        "        model,\n",
        "        seed_phrase,\n",
        "        max_length=1500,\n",
        "        temperature=1.0\n",
        "    ).replace('<sos>', '')\n",
        "    for _ in range(10)\n",
        "]"
      ]
    },
    {
      "cell_type": "code",
      "source": [
        "print(generated_phrases[0])"
      ],
      "metadata": {
        "colab": {
          "base_uri": "https://localhost:8080/"
        },
        "id": "IR1VqmSY-pND",
        "outputId": "9677cb38-43c0-4158-a7a9-16fd7cbbd62d"
      },
      "execution_count": 43,
      "outputs": [
        {
          "output_type": "stream",
          "name": "stdout",
          "text": [
            " я вы? вследамир, бал,\n",
            " он нежней листья серебристых.\n",
            " \n",
            " \n",
            " \n",
            " liii\n",
            " \n",
            " и, что лес вы же еще, как пень дороги!» – и татьяна.\n",
            " но циренье одный враг!\n",
            " \n",
            " \n",
            " \n",
            " xxvi\n",
            " \n",
            " ах, ни татьяну приносавиц…\n",
            " вот глаз сердце небрезверь принуждено…»\n",
            " и, лесули знал,\n",
            " и мужчин, гордо увидел:\n",
            " одно в то юняняняный маготрем\n",
            " и меня призумни тайный взод,\n",
            " читатель мир в лариных, я, брою\n",
            " вот время всё откуда\n",
            " теперь у важным разараза.\n",
            " \n",
            " \n",
            " \n",
            " xxxix\n",
            " \n",
            " другом на васе нежней прелестный тенечно\n",
            " задумчивой блести…»\n",
            " – пускай угром олед,\n",
            " и стих и старки озывало,\n",
            " и молча глуп, оставил и, передою». —\n",
            " «охва чачу… вразрак мою\n",
            " как убильярин был. он так жужды бродит,\n",
            " нигт искует курачарин,\n",
            " обняться шум больше домастве осучу.\n",
            " \n",
            " \n",
            " \n",
            " xxxii\n",
            " \n",
            " какое берез меня задурна совез черно,\n",
            " за истиной них. вревозы!» – «образаться боет…\n",
            " влюбленной и родной, нянях поесть,\n",
            " вас, может (ит:\n",
            " забести, в нем не судьбе вид им лучины\n",
            " играиться бягу разды;\n",
            " но от ним сердца пали одна\n",
            " перезверенья неи друг,\n",
            " народной ленского простор\n"
          ]
        }
      ]
    },
    {
      "cell_type": "markdown",
      "source": [
        "Temp = 2.0"
      ],
      "metadata": {
        "id": "BCcB0N2L_zJn"
      }
    },
    {
      "cell_type": "code",
      "source": [
        "# Example usage\n",
        "seed_phrase = ' мой дядя самых честных правил \\n когда не в шутку занемог\\n'\n",
        "generated_phrases = [\n",
        "    generate_sample(\n",
        "        model,\n",
        "        seed_phrase,\n",
        "        max_length=1500,\n",
        "        temperature=2.0\n",
        "    ).replace('<sos>', '')\n",
        "    for _ in range(10)\n",
        "]\n",
        "print(generated_phrases[0])"
      ],
      "metadata": {
        "colab": {
          "base_uri": "https://localhost:8080/"
        },
        "id": "7ZKeWEsm_yvW",
        "outputId": "17049cae-54b2-4ef1-9b2a-e8e1e0ded3b1"
      },
      "execution_count": 46,
      "outputs": [
        {
          "output_type": "stream",
          "name": "stdout",
          "text": [
            "? aadtette»-убомить: сю-трикаму тени?\n",
            " уж-сезкий! хутв». —\n",
            " «б(епгат! д\n",
            " так; я зумные швый,\n",
            " мажичеi енникочеет;\n",
            " присесть: мезнек ее боли,\n",
            " алжпы вреi\n",
            " мают любе, блокламу у ольг:\n",
            " иду мой ватец глых, кажи нежного ступивал.\n",
            " испемсех лзелчи чтынлена,\n",
            " сои!. бил,\n",
            " то эфеслись. ашли… изнываунока.\n",
            " оболстолты-тишутит, недавне,\n",
            " чодчаг-ал… пдев?»-f пий злука,\n",
            " что чак лукет eu … етдат\n",
            " bene-а изол их из ум?) e ухорним, щные,\n",
            " мнюет, хвидает сикуру;\n",
            " сge дакончосясос. невщиных,\n",
            " вров! хищу леж любви,\n",
            " ку xii«l ni y e, o…\n",
            " \n",
            " во мы ленский аское\n",
            " общиг диходикоt. приютеча,\n",
            " прухи щепта саржой.\n",
            " прав? мигу. пыстышно и\n",
            " стихов (абзыхает есту.\n",
            " татьяна моходаеp\n",
            " надебком мы, виклоня?»\n",
            " \n",
            " \n",
            " \n",
            " lxlii\n",
            " \n",
            " онча прыть, менгиом пальцы давно\n",
            " буега;  разливай губу:\n",
            " да гряду, брубик et 7 te^-ё нает кату\n",
            " улетит в эляжбокоя хлобаt —\n",
            " \n",
            " uредзейцавно очманной  друще,\n",
            " оо тревогик, раду язва не муж, жил:\n",
            " плыекта, вишим и кирон,\n",
            " рвазабилаа: ddnadt. il yr surier —\n",
            "…\n",
            " испасник печравсь ручью бяя,\n",
            " фаволяпюжитый питыдкий ци, врючет стариший. свид! —\n",
            " пою очны неужил всё. песлю\n",
            " ив-ктончел… чействы в гыслт!» ъдозот их,\n",
            " иптечтая\n",
            " \n",
            " й зматого их, на умно)!\n",
            " я (ю кажд\n",
            " id – штымясь юне стол рыще.\n",
            " я сuудиченье хорошы!\n",
            " живуре мный ждуть она!\n",
            " xxiv\n",
            " \n",
            " четво то те свель мы. их цис отступую?»\n",
            "» mannee ef омнрят зязан целуоком!\n",
            " царфру, там такое зерив». —\n",
            " «poor!e – «o цешщиною». – ин,\n",
            " кто, свобару; да, пошло,\n",
            " но майкам не, санку мя (наши, и впра жару окый,\n",
            " коем хлфамока. хозин… во) зьвных:\n",
            " торжесточ\n"
          ]
        }
      ]
    },
    {
      "cell_type": "markdown",
      "source": [
        "Temp = 0.5"
      ],
      "metadata": {
        "id": "4S0whW8pAXQL"
      }
    },
    {
      "cell_type": "code",
      "source": [
        "# Example usage\n",
        "seed_phrase = ' мой дядя самых честных правил \\n когда не в шутку занемог\\n'\n",
        "generated_phrases = [\n",
        "    generate_sample(\n",
        "        model,\n",
        "        seed_phrase,\n",
        "        max_length=1500,\n",
        "        temperature=0.5\n",
        "    ).replace('<sos>', '')\n",
        "    for _ in range(10)\n",
        "]\n",
        "print(generated_phrases[0])"
      ],
      "metadata": {
        "colab": {
          "base_uri": "https://localhost:8080/"
        },
        "id": "NO7cLj0RAeBq",
        "outputId": "79266934-79ed-4c2c-c3f7-540e69fe3dab"
      },
      "execution_count": 47,
      "outputs": [
        {
          "output_type": "stream",
          "name": "stdout",
          "text": [
            " \n",
            " \n",
            " \n",
            " xxxvii\n",
            " \n",
            " он в сердцем сквозь не гостивый подруга\n",
            " без верно в сердцем и заметить его отчался…\n",
            " «первый и собрачных дрожал…\n",
            " и вот уж на без мечтанья присар;\n",
            " и под соседку не замечает, ни сердце лета\n",
            " без меня с постели и сладость\n",
            " и после посвятил он в тумант\n",
            " на не под письмо на без него.\n",
            " \n",
            " \n",
            " \n",
            " xxxii\n",
            " \n",
            " что ж от делать от ворожалов мечты:\n",
            " так узнал он зановлижусь толку,\n",
            " старик, по крайных после приятель молодой\n",
            " от самогда стол ее последней меж не зал,\n",
            " и страстей соседки с отворилась,\n",
            " старины старины отворит:\n",
            " «ужный пора мне долго на дома\n",
            " и сомненья развратьяны мир,\n",
            " в ней в послед лирою страстей был верный лорнет\n",
            " и в то в тени мог порой\n",
            " скоторой слез, и вот богиня,\n",
            " меня тайный сани, зарецы,\n",
            " вородный на под ней.\n",
            " \n",
            " \n",
            " \n",
            " ii\n",
            " \n",
            " но на полу жизни пора,\n",
            " поим онегин она меж наших обожатель,\n",
            " и там на поприняться с ним и страстей…\n",
            " \n",
            " \n",
            " \n",
            " xxxviii. xxxvii\n",
            " \n",
            " и вот то же всем отменным слова\n",
            " и примчался и слезам,\n",
            " студа страстей послушна, молодой\n",
            " не просто я старины, разговоры,\n",
            " и что ж толпою пред ним;\n",
            " и перестало в сердца своегоду\n",
            " мечтанья на пять и спит\n",
            " и в шумной ленского след:\n",
            " ах на буду в сельский взор напом нет,\n",
            " и в сердце листорной волненье.\n",
            " но, страстей лип, бодумал долгий слов\n",
            " и для своего не приветство,\n",
            " пред сердце сердцем одно могу…\n",
            " \n",
            " \n",
            " \n",
            " xxxiv\n",
            " \n",
            " татьяна под это отцо строфа\n",
            " с себе сердцем он за меня\n",
            " \n",
            " \n",
            " \n",
            " xxxi\n",
            " \n",
            " вот живет ей нежный под ней.\n",
            " \n",
            " \n",
            " \n",
            " xxix\n",
            " \n",
            " теперь же часто в помилоты\n",
            " за стихов своих романа\n",
            " ее теперь он под ним очей\n",
            " не зан\n"
          ]
        }
      ]
    },
    {
      "cell_type": "markdown",
      "source": [
        "Temp = 0.2"
      ],
      "metadata": {
        "id": "QftTsA-vA2_A"
      }
    },
    {
      "cell_type": "code",
      "source": [
        "# Example usage\n",
        "seed_phrase = ' мой дядя самых честных правил \\n когда не в шутку занемог\\n'\n",
        "generated_phrases = [\n",
        "    generate_sample(\n",
        "        model,\n",
        "        seed_phrase,\n",
        "        max_length=1500,\n",
        "        temperature=0.2\n",
        "    ).replace('<sos>', '')\n",
        "    for _ in range(10)\n",
        "]\n",
        "print(generated_phrases[0])"
      ],
      "metadata": {
        "colab": {
          "base_uri": "https://localhost:8080/"
        },
        "id": "n6G36hXuBCZm",
        "outputId": "ba6d4284-5054-4baf-d967-83a4cee91a6f"
      },
      "execution_count": 48,
      "outputs": [
        {
          "output_type": "stream",
          "name": "stdout",
          "text": [
            " \n",
            " \n",
            " \n",
            " xxxiv\n",
            " \n",
            " но я страстей под ним он столом,\n",
            " и после в том под ним онегин отдохнула в нем,\n",
            " и после последней сон под ним ответа,\n",
            " и в том своей сердцем одно, молодой,\n",
            " чтоб в то время нести боле;\n",
            " там на своих заречает она.\n",
            " \n",
            " \n",
            " \n",
            " xxxii\n",
            " \n",
            " но вот верный толковательных полетел;\n",
            " но в сердце тани в том одной\n",
            " под ним от красной своей непристало,\n",
            " и вот весела от ним она.\n",
            " \n",
            " \n",
            " \n",
            " xxxiv\n",
            " \n",
            " но так но приятель и страстей…\n",
            " \n",
            " \n",
            " \n",
            " xxxvii\n",
            " \n",
            " он в том своих своей не волненье,\n",
            " в сердцем он соседа,\n",
            " и вот возвратился он в том,\n",
            " и вот в сердце всех наших ночных строфах\n",
            " мечтанья не послушный двор,\n",
            " и страстей просто блистал он в сердцем одной\n",
            " от ним он сердцем она головой,\n",
            " и после под ним отдохнула в сердцем она.\n",
            " \n",
            " \n",
            " \n",
            " xxxii\n",
            " \n",
            " в своей тани был она.\n",
            " \n",
            " \n",
            " \n",
            " xxxii\n",
            " \n",
            " он верно в сердцем он сердцем она.\n",
            " \n",
            " \n",
            " \n",
            " xxxii\n",
            " \n",
            " но так любовь от важно подобный взор,\n",
            " и вот уж он верный своей наших наших на слез,\n",
            " и вот в сердце всех неволе\n",
            " приветствием собой слезам,\n",
            " не под ним от волненье сердцем она.\n",
            " \n",
            " \n",
            " \n",
            " xxxii\n",
            " \n",
            " но вот быть, он с ним отдохнуть о том,\n",
            " с каким он с ним от ней он вас возвратился,\n",
            " и вот в сердцем он верно,\n",
            " и в то в нем онегин сердцем она\n",
            " старины слезами странный,\n",
            " и вот в нем не просто блистал на страстей не своей.\n",
            " \n",
            " \n",
            " \n",
            " xxxi\n",
            " \n",
            " но так но послушный под ним онегин сон.\n",
            " \n",
            " \n",
            " \n",
            " xxxi\n",
            " \n",
            " он в сердцем он в сердцем она.\n",
            " \n",
            " \n",
            " \n",
            " xxxii\n",
            " \n",
            " но вот в сердце то же простой,\n",
            " привычный взор толкнули,\n",
            " и вот в нем он не мог не соседа,\n",
            " и вот в сердце не приятно буду,\n",
            " сердечный друг не\n"
          ]
        }
      ]
    },
    {
      "cell_type": "markdown",
      "source": [
        "Temp = 0.1"
      ],
      "metadata": {
        "id": "Y3hWf_s2Bbtm"
      }
    },
    {
      "cell_type": "code",
      "source": [
        "# Example usage\n",
        "seed_phrase = ' мой дядя самых честных правил \\n когда не в шутку занемог\\n'\n",
        "generated_phrases = [\n",
        "    generate_sample(\n",
        "        model,\n",
        "        seed_phrase,\n",
        "        max_length=1500,\n",
        "        temperature=0.1\n",
        "    ).replace('<sos>', '')\n",
        "    for _ in range(10)\n",
        "]\n",
        "print(generated_phrases[0])"
      ],
      "metadata": {
        "colab": {
          "base_uri": "https://localhost:8080/"
        },
        "id": "aLYg2i7PBeR4",
        "outputId": "cc6949dc-9fc0-4865-967d-ec0cb7904a64"
      },
      "execution_count": 49,
      "outputs": [
        {
          "output_type": "stream",
          "name": "stdout",
          "text": [
            " и в то волочусь не приносит\n",
            " он в сердце всё от ней.\n",
            " \n",
            " \n",
            " \n",
            " xxxi\n",
            " \n",
            " но вот в после под ним от ней он не простолов,\n",
            " в нем отдохнула в ней нет,\n",
            " и вот в сердце всех нем она.\n",
            " \n",
            " \n",
            " \n",
            " xxxii\n",
            " \n",
            " но так любовь он в том на свет и страстей.\n",
            " \n",
            " \n",
            " \n",
            " xxii\n",
            " \n",
            " но так но страстей сердца свои своей не последней молодой,\n",
            " но в сердце то же страстей.\n",
            " \n",
            " \n",
            " \n",
            " xxxi\n",
            " \n",
            " но так ножки и странный сон.\n",
            " теперь под ним ободит она\n",
            " с ней на приятно больной делать с ней\n",
            " не послушный взор наших наших наших наших наших наших наших наших наших наших наших на старины\n",
            " и соседа под ним онегин страстей.\n",
            " \n",
            " \n",
            " \n",
            " xxxi\n",
            " \n",
            " но так любовь он в том страстей сердцем она.\n",
            " \n",
            " \n",
            " \n",
            " xxxii\n",
            " \n",
            " но вот верный и волненье,\n",
            " и после под ним от ней он в сердцем она.\n",
            " \n",
            " \n",
            " \n",
            " xxxii\n",
            " \n",
            " но вот верно был под ней он с ним ободаты,\n",
            " в то время в том своей не своей.\n",
            " \n",
            " \n",
            " \n",
            " xxxi\n",
            " \n",
            " но вот в сердце всех нем одна\n",
            " в сердца своего не своей.\n",
            " \n",
            " \n",
            " \n",
            " xxxi\n",
            " \n",
            " но так же всем отдамся под ним она.\n",
            " \n",
            " \n",
            " \n",
            " xxxii\n",
            " \n",
            " но так но послушный взор своей не своей.\n",
            " \n",
            " \n",
            " \n",
            " xxxi\n",
            " \n",
            " но так же послушный взор наших наших наших наших наших наших наших наших наших наших наших наших наших ночей;\n",
            " татьяна под ним ободит и возвратился,\n",
            " и вот в сердце совершенство, молодой\n",
            " приветы деревне последней сердце воле\n",
            " привычный взор своей не волненье\n",
            " в сердце под ним онегин страстей.\n",
            " \n",
            " \n",
            " \n",
            " xxxi\n",
            " \n",
            " но так не приятно был он в сердцем она.\n",
            " \n",
            " \n",
            " \n",
            " xxxii\n",
            " \n",
            " но так любовь он в сердцем она своей.\n",
            " \n",
            " \n",
            " \n",
            " xxxi\n",
            " \n",
            " но так же послушный взор наших наших наших наших наших наших наших наших\n"
          ]
        }
      ]
    },
    {
      "cell_type": "markdown",
      "source": [
        "С повышением температуры распределение по символам стремится к равномерному, поэтому чем выше температура, тем более разные слова и символы и слова встречаются. При самой высокой температуре при этом получается несвязный бред, а при самой низкой тоже бред, но почти все слова существующие и каждая строфа начинается с \"ну\", \"ну вот\", \"ну так\". Видимо, это самые частые выражения, и благодаря низкой температуре этот эффект только усилился, аналогично много повторяющихся слов \"наших наших...\""
      ],
      "metadata": {
        "id": "NlNzyktCBvyv"
      }
    },
    {
      "cell_type": "markdown",
      "metadata": {
        "id": "yQNnCDNj6pST"
      },
      "source": [
        "### Saving and loading models"
      ]
    },
    {
      "cell_type": "markdown",
      "metadata": {
        "id": "_YbqOayX6pSU"
      },
      "source": [
        "Save the model to the disk, then load it and generate text. Examples are available [here](https://pytorch.org/tutorials/beginner/saving_loading_models.html])."
      ]
    },
    {
      "cell_type": "code",
      "execution_count": 50,
      "metadata": {
        "collapsed": true,
        "id": "LLExUkrC6pSU",
        "colab": {
          "base_uri": "https://localhost:8080/"
        },
        "outputId": "76d7782d-9fc2-49e4-ce50-5e6d3bfa1645"
      },
      "outputs": [
        {
          "output_type": "stream",
          "name": "stdout",
          "text": [
            "Model saved to vanilla_lstm_model.pth\n"
          ]
        }
      ],
      "source": [
        "model_path = 'vanilla_lstm_model.pth'\n",
        "torch.save(model.state_dict(), model_path)\n",
        "print(f'Model saved to {model_path}')"
      ]
    },
    {
      "cell_type": "code",
      "source": [
        "loaded_model = VanillaLSTM(vocab_size, hidden_size, num_layers=2)\n",
        "loaded_model.load_state_dict(torch.load(model_path))\n",
        "loaded_model.eval()  # Set the model to evaluation mode\n",
        "\n",
        "# Define the device based on availability\n",
        "device = torch.device('cuda' if torch.cuda.is_available() else 'cpu')\n",
        "loaded_model.to(device)"
      ],
      "metadata": {
        "colab": {
          "base_uri": "https://localhost:8080/"
        },
        "id": "xOIufduZDvnj",
        "outputId": "9b3ab9ca-1cf9-4787-e508-c30ce5c56dc2"
      },
      "execution_count": 51,
      "outputs": [
        {
          "output_type": "stream",
          "name": "stderr",
          "text": [
            "<ipython-input-51-40b02fdc23da>:2: FutureWarning: You are using `torch.load` with `weights_only=False` (the current default value), which uses the default pickle module implicitly. It is possible to construct malicious pickle data which will execute arbitrary code during unpickling (See https://github.com/pytorch/pytorch/blob/main/SECURITY.md#untrusted-models for more details). In a future release, the default value for `weights_only` will be flipped to `True`. This limits the functions that could be executed during unpickling. Arbitrary objects will no longer be allowed to be loaded via this mode unless they are explicitly allowlisted by the user via `torch.serialization.add_safe_globals`. We recommend you start setting `weights_only=True` for any use case where you don't have full control of the loaded file. Please open an issue on GitHub for any issues related to this experimental feature.\n",
            "  loaded_model.load_state_dict(torch.load(model_path))\n"
          ]
        },
        {
          "output_type": "execute_result",
          "data": {
            "text/plain": [
              "VanillaLSTM(\n",
              "  (embedding): Embedding(84, 256)\n",
              "  (lstm): LSTM(256, 256, num_layers=2, batch_first=True)\n",
              "  (fc): Linear(in_features=256, out_features=84, bias=True)\n",
              ")"
            ]
          },
          "metadata": {},
          "execution_count": 51
        }
      ]
    },
    {
      "cell_type": "code",
      "source": [
        "seed_phrase = ' я помню чудное мгновенье\\n передо мной явилась ты\\n'\n",
        "generated_phrases = [\n",
        "    generate_sample(\n",
        "        loaded_model,\n",
        "        seed_phrase,\n",
        "        max_length=1000,\n",
        "        temperature=0.5,\n",
        "        device=device\n",
        "    ).replace('<sos>', '')\n",
        "    for _ in range(10)\n",
        "]\n",
        "\n",
        "print(generated_phrases[0])"
      ],
      "metadata": {
        "colab": {
          "base_uri": "https://localhost:8080/"
        },
        "id": "1YAtody7EW1p",
        "outputId": "429646d8-0cf9-4052-ec42-65e7a775ff7a"
      },
      "execution_count": 54,
      "outputs": [
        {
          "output_type": "stream",
          "name": "stdout",
          "text": [
            " и вот он под ним отдамся под ним онегиным светлана\n",
            " блажен в семьей могу благородный след,\n",
            " и в сердцем он послед и неизвидел;\n",
            " карикаться, как забыла,\n",
            " просто бродили татьяна,\n",
            " ужель и в сердца мог на не поведубором приготовляться без народна,\n",
            " но то знать, и старинные друзья:\n",
            " друзья содром молодой дела:\n",
            " то ж твоего своей собой дуэльной,\n",
            " и в то потом на сердца своей.\n",
            " \n",
            " \n",
            " \n",
            " xii\n",
            " \n",
            " привычной наши столов,\n",
            " в послушный взор сердцем и в управлялся она.\n",
            " \n",
            " \n",
            " \n",
            " xxxiii\n",
            " \n",
            " он величавая стало,\n",
            " в нем он верный взгляд, на возвращая,\n",
            " со не общих и страстей…\n",
            " он в малой и снег важный мечтанья\n",
            " друзья с послушный порой\n",
            " со в письмо он в сердцем она.\n",
            " \n",
            " \n",
            " \n",
            " xxxii\n",
            " \n",
            " но твоего слова видеть у ним она.\n",
            " «как в полко почем от со много сплину,\n",
            " как в сердцем он ли вам узнал,\n",
            " и под ней он подавна дальной доле отдохновенье,\n",
            " я важно блистательной мечты!\n",
            " с ольги блистал на снег,\n",
            " недосто страстей он старины,\n",
            " и в то жалость и своих ручью,\n",
            " и первой надежду наши друг;\n",
            " но в сердце то вдохновенье,\n",
            " де\n"
          ]
        }
      ]
    },
    {
      "cell_type": "markdown",
      "metadata": {
        "id": "Y3Vvmg4p6pSU"
      },
      "source": [
        "### References\n",
        "1. <a href='http://karpathy.github.io/2015/05/21/rnn-effectiveness/'> Andrew Karpathy blog post about RNN. </a>\n",
        "There are several examples of genration: Shakespeare texts, Latex formulas, Linux Sourse Code and children names.\n",
        "2. <a href='https://github.com/karpathy/char-rnn'> Repo with char-rnn code </a>\n",
        "3. Cool repo with PyTorch examples: [link](https://github.com/spro/practical-pytorch)\n",
        "4. nanoGPT by Andrej Karpathy: https://github.com/karpathy/nanoGPT"
      ]
    }
  ],
  "metadata": {
    "anaconda-cloud": {},
    "kernelspec": {
      "display_name": "Python 3",
      "language": "python",
      "name": "python3"
    },
    "language_info": {
      "codemirror_mode": {
        "name": "ipython",
        "version": 3
      },
      "file_extension": ".py",
      "mimetype": "text/x-python",
      "name": "python",
      "nbconvert_exporter": "python",
      "pygments_lexer": "ipython3",
      "version": "3.7.7"
    },
    "colab": {
      "provenance": []
    }
  },
  "nbformat": 4,
  "nbformat_minor": 0
}